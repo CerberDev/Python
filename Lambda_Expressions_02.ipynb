{
  "cells": [
    {
      "cell_type": "markdown",
      "metadata": {
        "id": "view-in-github",
        "colab_type": "text"
      },
      "source": [
        "<a href=\"https://colab.research.google.com/github/CerberDev/Python/blob/main/Lambda_Expressions_02.ipynb\" target=\"_parent\"><img src=\"https://colab.research.google.com/assets/colab-badge.svg\" alt=\"Open In Colab\"/></a>"
      ]
    },
    {
      "cell_type": "markdown",
      "metadata": {
        "id": "G3yVsUTucjDS"
      },
      "source": [
        "# Principal Aplicação de Lambda Expressions\n",
        "\n",
        "### Usar lambda como argumento de alguma outra função, como map e filter"
      ]
    },
    {
      "cell_type": "code",
      "execution_count": 2,
      "metadata": {
        "id": "cFTig5azcjDa"
      },
      "outputs": [],
      "source": [
        "preco_tecnologia = {'notebook asus': 2450, 'iphone': 4500, 'samsung galaxy': 3000, 'tv samsung': 1000, 'ps5': 3000, 'tablet': 1000, 'notebook dell': 3000, 'ipad': 3000, 'tv philco': 800, 'notebook hp': 1700}"
      ]
    },
    {
      "cell_type": "markdown",
      "metadata": {
        "id": "OyZ1m0opcjDe"
      },
      "source": [
        "### map()\n",
        "- Queremos saber o preço de cada produto adicionando o valor do imposto de 30% sobre o valor do produto"
      ]
    },
    {
      "cell_type": "code",
      "execution_count": 3,
      "metadata": {
        "id": "s5xtQqHhcjDg",
        "outputId": "84faaff2-0e34-4cbc-b160-397d7f33e63d",
        "colab": {
          "base_uri": "https://localhost:8080/"
        }
      },
      "outputs": [
        {
          "output_type": "stream",
          "name": "stdout",
          "text": [
            "[3185.0, 5850.0, 3900.0, 1300.0, 3900.0, 1300.0, 3900.0, 3900.0, 1040.0, 2210.0]\n"
          ]
        }
      ],
      "source": [
        "#Fazendo por function\n",
        "def calcular_preco(preco):\n",
        "  return preco * 1.3\n",
        "\n",
        "preco_com_imposto = list(map(calcular_preco, preco_tecnologia.values()))\n",
        "print(preco_com_imposto)\n"
      ]
    },
    {
      "cell_type": "code",
      "execution_count": 4,
      "metadata": {
        "id": "VQ5l4hoQcjDh",
        "outputId": "1355d79b-bddb-41ec-c174-167b8aa10e92",
        "colab": {
          "base_uri": "https://localhost:8080/"
        }
      },
      "outputs": [
        {
          "output_type": "stream",
          "name": "stdout",
          "text": [
            "[3185.0, 5850.0, 3900.0, 1300.0, 3900.0, 1300.0, 3900.0, 3900.0, 1040.0, 2210.0]\n"
          ]
        }
      ],
      "source": [
        "#fazendo por lambda\n",
        "preco_com_imposto2 = list(map(lambda preco: preco * 1.3 ,preco_tecnologia.values()))\n",
        "print(preco_com_imposto2)"
      ]
    },
    {
      "cell_type": "markdown",
      "metadata": {
        "id": "ED8hPrrhcjDi"
      },
      "source": [
        "### filter()\n",
        "- Queremos apenas os produtos que custam acima de 2000"
      ]
    },
    {
      "cell_type": "raw",
      "metadata": {
        "id": "dK9uOqsdcjDj"
      },
      "source": [
        "filter(função, iterable) -> retorna como resposta todos os itens do iterable onde a função é True"
      ]
    },
    {
      "cell_type": "code",
      "execution_count": 7,
      "metadata": {
        "id": "fCOUatY6cjDl",
        "outputId": "460b0f43-51e9-4296-d178-8107f6243741",
        "colab": {
          "base_uri": "https://localhost:8080/"
        }
      },
      "outputs": [
        {
          "output_type": "stream",
          "name": "stdout",
          "text": [
            "{'notebook asus': 2450, 'iphone': 4500, 'samsung galaxy': 3000, 'ps5': 3000, 'notebook dell': 3000, 'ipad': 3000}\n"
          ]
        }
      ],
      "source": [
        "#fazendo por function\n",
        "#print(preco_tecnologia.items())\n",
        "def ehmaior2000(item):\n",
        "  return item[1] > 2000\n",
        "\n",
        "produtos_acima2000 = dict(list(filter(ehmaior2000, preco_tecnologia.items( ))))\n",
        "print(produtos_acima2000)\n"
      ]
    },
    {
      "cell_type": "code",
      "execution_count": 8,
      "metadata": {
        "id": "EySUAbdQcjDm",
        "outputId": "998f6c21-d60b-40bf-f318-909e9c1485cd",
        "colab": {
          "base_uri": "https://localhost:8080/"
        }
      },
      "outputs": [
        {
          "output_type": "stream",
          "name": "stdout",
          "text": [
            "{'notebook asus': 2450, 'iphone': 4500, 'samsung galaxy': 3000, 'ps5': 3000, 'notebook dell': 3000, 'ipad': 3000}\n"
          ]
        }
      ],
      "source": [
        "#fazendo por lambda\n",
        "produtos2_acima2000 = dict(list(filter(lambda item: item [1] > 2000, preco_tecnologia.items())))\n",
        "print(produtos2_acima2000)"
      ]
    }
  ],
  "metadata": {
    "kernelspec": {
      "display_name": "Python 3",
      "language": "python",
      "name": "python3"
    },
    "language_info": {
      "codemirror_mode": {
        "name": "ipython",
        "version": 3
      },
      "file_extension": ".py",
      "mimetype": "text/x-python",
      "name": "python",
      "nbconvert_exporter": "python",
      "pygments_lexer": "ipython3",
      "version": "3.8.3"
    },
    "colab": {
      "provenance": [],
      "include_colab_link": true
    }
  },
  "nbformat": 4,
  "nbformat_minor": 0
}