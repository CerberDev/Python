{
  "cells": [
    {
      "cell_type": "markdown",
      "metadata": {
        "id": "view-in-github",
        "colab_type": "text"
      },
      "source": [
        "<a href=\"https://colab.research.google.com/github/CerberDev/Python/blob/main/List_Comprehensions_e_Functions_em_Iterables_03.ipynb\" target=\"_parent\"><img src=\"https://colab.research.google.com/assets/colab-badge.svg\" alt=\"Open In Colab\"/></a>"
      ]
    },
    {
      "cell_type": "markdown",
      "metadata": {
        "id": "npvgEOhBGX4M"
      },
      "source": [
        "# List Comprehensions com if para \"filtrar\" itens\n",
        "\n",
        "### Estrutura:"
      ]
    },
    {
      "cell_type": "raw",
      "metadata": {
        "id": "MOuMRhlhGX4X"
      },
      "source": [
        "lista = [expressão for item in iterable if condicao]"
      ]
    },
    {
      "cell_type": "markdown",
      "metadata": {
        "id": "jn5C95LZGX4Z"
      },
      "source": [
        "- Digamos que eu queira criar uma lista de produtos que bateram a meta."
      ]
    },
    {
      "cell_type": "code",
      "execution_count": 16,
      "metadata": {
        "id": "n5P4V0nnGX4a"
      },
      "outputs": [],
      "source": [
        "meta = 1000\n",
        "vendas_produtos = [1500, 150, 2100, 1950]\n",
        "produtos = ['vinho', 'cafeiteira', 'microondas', 'iphone']"
      ]
    },
    {
      "cell_type": "markdown",
      "metadata": {
        "id": "2Fm-0Z5nGX4d"
      },
      "source": [
        "Fazendo por For tradicional"
      ]
    },
    {
      "cell_type": "code",
      "execution_count": 12,
      "metadata": {
        "id": "wM4_w30SGX4e",
        "outputId": "a7cb32db-3cd8-4903-c4eb-70f2b5ac51ba",
        "colab": {
          "base_uri": "https://localhost:8080/"
        }
      },
      "outputs": [
        {
          "output_type": "stream",
          "name": "stdout",
          "text": [
            "['vinho', 'microondas', 'iphone']\n"
          ]
        }
      ],
      "source": [
        "produtos_acima_meta = []\n",
        "for i, produto in enumerate(produtos):\n",
        "  if vendas_produtos[i] > meta:\n",
        "    produtos_acima_meta.append(produto)\n",
        "\n",
        "print(produtos_acima_meta) "
      ]
    },
    {
      "cell_type": "markdown",
      "metadata": {
        "id": "iKi6M6rhGX4f"
      },
      "source": [
        "Fazendo por list comprehension"
      ]
    },
    {
      "cell_type": "code",
      "execution_count": 18,
      "metadata": {
        "id": "LKLCEaPbGX4h",
        "outputId": "38945d60-3740-4502-eb4f-d5bb43eea1fe",
        "colab": {
          "base_uri": "https://localhost:8080/"
        }
      },
      "outputs": [
        {
          "output_type": "stream",
          "name": "stdout",
          "text": [
            "['vinho', 'microondas', 'iphone']\n"
          ]
        }
      ],
      "source": [
        "produtos_acima_media = [produto for i, produto in enumerate (produtos) if vendas_produtos[i]> meta]\n",
        "print(produtos_acima_media)"
      ]
    }
  ],
  "metadata": {
    "kernelspec": {
      "display_name": "Python 3",
      "language": "python",
      "name": "python3"
    },
    "language_info": {
      "codemirror_mode": {
        "name": "ipython",
        "version": 3
      },
      "file_extension": ".py",
      "mimetype": "text/x-python",
      "name": "python",
      "nbconvert_exporter": "python",
      "pygments_lexer": "ipython3",
      "version": "3.8.3"
    },
    "colab": {
      "provenance": [],
      "include_colab_link": true
    }
  },
  "nbformat": 4,
  "nbformat_minor": 0
}