{
  "cells": [
    {
      "cell_type": "markdown",
      "metadata": {
        "id": "view-in-github",
        "colab_type": "text"
      },
      "source": [
        "<a href=\"https://colab.research.google.com/github/CerberDev/Python/blob/main/List_Comprehensions_e_Functions_em_Iterables_06.ipynb\" target=\"_parent\"><img src=\"https://colab.research.google.com/assets/colab-badge.svg\" alt=\"Open In Colab\"/></a>"
      ]
    },
    {
      "cell_type": "markdown",
      "metadata": {
        "id": "XIK5HWLL7909"
      },
      "source": [
        "# Function em iterables\n",
        "\n",
        "### Segue a mesma lógica de list comprehension, mas é mais simples\n",
        "\n",
        "Basicamente alguns métodos e funções que já existem no Python podem rodar uma function para cada item, da mesma forma que fizemos com list comprehension.\n",
        "\n",
        "Isso pode ajudar a gente a resolver alguns desafios de forma mais simples\n",
        "\n",
        "Uma função que permite que a gente faça isso é a map function\n",
        "\n",
        "### map function"
      ]
    },
    {
      "cell_type": "raw",
      "metadata": {
        "id": "NKQw7bql791F"
      },
      "source": [
        "lista = list(map(função, iterable_original))"
      ]
    },
    {
      "cell_type": "markdown",
      "metadata": {
        "id": "y9Fxf_IX791H"
      },
      "source": [
        "- Exemplo: digamos que eu tenha uma function que corrige um código de um produto (semelhante ao que fizemos na seção de function aqui do curso)"
      ]
    },
    {
      "cell_type": "code",
      "execution_count": 2,
      "metadata": {
        "id": "fTx6I-P7791H"
      },
      "outputs": [],
      "source": [
        "def padronizar_texto(texto):\n",
        "    texto = texto.casefold()\n",
        "    texto = texto.replace(\"  \", \" \")\n",
        "    texto = texto.strip()\n",
        "    return texto"
      ]
    },
    {
      "cell_type": "markdown",
      "metadata": {
        "id": "z0benGKV791M"
      },
      "source": [
        "- Agora queremos padronizar uma lista de códigos:"
      ]
    },
    {
      "cell_type": "code",
      "execution_count": 3,
      "metadata": {
        "id": "8ghjlx-4791O"
      },
      "outputs": [],
      "source": [
        "produtos = [' ABC12 ', 'abc34', 'AbC37', 'beb12', ' BSA151', 'BEB23']"
      ]
    },
    {
      "cell_type": "markdown",
      "metadata": {
        "id": "4o7YvA-_791P"
      },
      "source": [
        "- Usando o for, temos que percorrer a lista toda e para cada item executar a function"
      ]
    },
    {
      "cell_type": "code",
      "execution_count": 5,
      "metadata": {
        "id": "aerFbseo791Q",
        "outputId": "bf23ae44-004c-486a-d521-710558e178e5",
        "colab": {
          "base_uri": "https://localhost:8080/"
        }
      },
      "outputs": [
        {
          "output_type": "stream",
          "name": "stdout",
          "text": [
            "['abc12', 'abc34', 'abc37', 'beb12', 'bsa151', 'beb23']\n"
          ]
        }
      ],
      "source": [
        "\n",
        "for i, produto in enumerate(produtos):\n",
        "  produtos[i] = padronizar_texto(produto)\n",
        "print(produtos)"
      ]
    },
    {
      "cell_type": "markdown",
      "metadata": {
        "id": "jcEir57R791R"
      },
      "source": [
        "- Usando o map, apenas chamamos a função e ela já faz isso para a gente"
      ]
    },
    {
      "cell_type": "code",
      "execution_count": 7,
      "metadata": {
        "id": "G-unXYUd791S",
        "outputId": "ff4fd3cf-73d4-41a2-d20f-38e3d0fc6d61",
        "colab": {
          "base_uri": "https://localhost:8080/"
        }
      },
      "outputs": [
        {
          "output_type": "stream",
          "name": "stdout",
          "text": [
            "['abc12', 'abc34', 'abc37', 'beb12', 'bsa151', 'beb23']\n"
          ]
        }
      ],
      "source": [
        "produtos = list(map(padronizar_texto, produtos))\n",
        "print(produtos)"
      ]
    },
    {
      "cell_type": "markdown",
      "metadata": {
        "id": "OUNwJ8fk791T"
      },
      "source": [
        "### Olhando assim pode não parecer tão útil, mas a lógica de executar uma função para cada item é bem útil para outras funções que já existem no Python. Veremos na próxima aula"
      ]
    }
  ],
  "metadata": {
    "kernelspec": {
      "display_name": "Python 3",
      "language": "python",
      "name": "python3"
    },
    "language_info": {
      "codemirror_mode": {
        "name": "ipython",
        "version": 3
      },
      "file_extension": ".py",
      "mimetype": "text/x-python",
      "name": "python",
      "nbconvert_exporter": "python",
      "pygments_lexer": "ipython3",
      "version": "3.8.3"
    },
    "colab": {
      "provenance": [],
      "include_colab_link": true
    }
  },
  "nbformat": 4,
  "nbformat_minor": 0
}