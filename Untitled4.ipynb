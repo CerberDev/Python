{
 "cells": [
  {
   "cell_type": "code",
   "execution_count": 3,
   "id": "38708fb5",
   "metadata": {},
   "outputs": [
    {
     "ename": "IndentationError",
     "evalue": "expected an indented block (1170042151.py, line 7)",
     "output_type": "error",
     "traceback": [
      "\u001b[1;36m  Input \u001b[1;32mIn [3]\u001b[1;36m\u001b[0m\n\u001b[1;33m    else:\u001b[0m\n\u001b[1;37m    ^\u001b[0m\n\u001b[1;31mIndentationError\u001b[0m\u001b[1;31m:\u001b[0m expected an indented block\n"
     ]
    }
   ],
   "source": [
    "produto = input(\"Qual o produto?\")\n",
    "categoria = input(\"Qual a categoria do produto?\")\n",
    "qtde = int(input(\"Qual a quantidade atual do produto?\"))\n",
    "\n",
    "if produto and categoria and qtde:\n",
    "    \n",
    "else:\n",
    "    print(\"preencha todas as informações\")"
   ]
  },
  {
   "cell_type": "code",
   "execution_count": null,
   "id": "e10aae8d",
   "metadata": {},
   "outputs": [],
   "source": []
  }
 ],
 "metadata": {
  "kernelspec": {
   "display_name": "Python 3 (ipykernel)",
   "language": "python",
   "name": "python3"
  },
  "language_info": {
   "codemirror_mode": {
    "name": "ipython",
    "version": 3
   },
   "file_extension": ".py",
   "mimetype": "text/x-python",
   "name": "python",
   "nbconvert_exporter": "python",
   "pygments_lexer": "ipython3",
   "version": "3.9.12"
  }
 },
 "nbformat": 4,
 "nbformat_minor": 5
}
