{
 "cells": [
  {
   "cell_type": "code",
   "execution_count": 12,
   "id": "a36167b0",
   "metadata": {},
   "outputs": [
    {
     "name": "stdout",
     "output_type": "stream",
     "text": [
      "10\n",
      "d\n",
      "sandro\n",
      "alessandrofranca7@gmail.com\n",
      "Alessan\n",
      "gmail\n",
      "Qual é o servidor do email? gmail\n",
      "Qual é o primeiro caractere do email? a\n",
      "Qual é o último caractere do email? m\n"
     ]
    }
   ],
   "source": [
    "email = \"alessandrofranca7@gmail.com\"\n",
    "nome = \"Alessandro\"\n",
    "\n",
    "print(len(nome))\n",
    "print(nome [7])\n",
    "print(nome [4:])\n",
    "print(email)\n",
    "print(nome[:-3])\n",
    "print (email[18:-4])\n",
    "print(\"Qual é o servidor do email? \" + email[18:23])\n",
    "print(\"Qual é o primeiro caractere do email? \" + email[0])\n",
    "print(\"Qual é o último caractere do email? \" + email[-1])\n"
   ]
  },
  {
   "cell_type": "code",
   "execution_count": null,
   "id": "f35dbcd9",
   "metadata": {},
   "outputs": [],
   "source": []
  }
 ],
 "metadata": {
  "kernelspec": {
   "display_name": "Python 3 (ipykernel)",
   "language": "python",
   "name": "python3"
  },
  "language_info": {
   "codemirror_mode": {
    "name": "ipython",
    "version": 3
   },
   "file_extension": ".py",
   "mimetype": "text/x-python",
   "name": "python",
   "nbconvert_exporter": "python",
   "pygments_lexer": "ipython3",
   "version": "3.9.12"
  }
 },
 "nbformat": 4,
 "nbformat_minor": 5
}
