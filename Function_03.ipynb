{
  "cells": [
    {
      "cell_type": "markdown",
      "metadata": {
        "id": "view-in-github",
        "colab_type": "text"
      },
      "source": [
        "<a href=\"https://colab.research.google.com/github/CerberDev/Python/blob/main/Function_03.ipynb\" target=\"_parent\"><img src=\"https://colab.research.google.com/assets/colab-badge.svg\" alt=\"Open In Colab\"/></a>"
      ]
    },
    {
      "cell_type": "markdown",
      "metadata": {
        "id": "d1siYpvg5BA3"
      },
      "source": [
        "# Argumentos/Parâmetros da Função\n",
        "\n",
        "### Estrutura:"
      ]
    },
    {
      "cell_type": "raw",
      "metadata": {
        "id": "_0jhEU545BA-"
      },
      "source": [
        "def minha_funcao(parametro1, parametro2, parametro3):\n",
        "    return parametro1 + parametro2 + parametro3"
      ]
    },
    {
      "cell_type": "markdown",
      "metadata": {
        "id": "MSLvSGUT5BA_"
      },
      "source": [
        "- Exemplo: nosso famoso print"
      ]
    },
    {
      "cell_type": "code",
      "execution_count": null,
      "metadata": {
        "id": "opcUzTLH5BBA"
      },
      "outputs": [],
      "source": [
        "vendas = 50\n",
        "print('Produto','Iphone','Vendas',vendas)"
      ]
    },
    {
      "cell_type": "markdown",
      "metadata": {
        "id": "1jsFqjKi5BBC"
      },
      "source": [
        "- Só para mostrar o funcionamento, vamos criar uma função de soma"
      ]
    },
    {
      "cell_type": "code",
      "execution_count": 2,
      "metadata": {
        "id": "K30YoMFP5BBD",
        "outputId": "c42ecf07-b00a-470d-9574-0caedb469b26",
        "colab": {
          "base_uri": "https://localhost:8080/"
        }
      },
      "outputs": [
        {
          "output_type": "stream",
          "name": "stdout",
          "text": [
            "60\n"
          ]
        }
      ],
      "source": [
        "def minha_soma(num1,num2,num3):\n",
        "  return num1 + num2 + num3\n",
        "\n",
        "soma = minha_soma(10,20,30)\n",
        "\n",
        "print(soma)"
      ]
    },
    {
      "cell_type": "markdown",
      "metadata": {
        "id": "ob9ojT1y5BBD"
      },
      "source": [
        "- Vamos criar uma function com parâmetro\n",
        "\n",
        "Digamos que estamos criando um programa para categorizar os produtos de uma revendedora de bebidas.\n",
        "\n",
        "Cada produto tem um código. O tipo de produto é dado pelas 3 primeiras letras do código.\n",
        "\n",
        "Ex:<br>\n",
        "Vinho -> BEB12302<br>\n",
        "Cerveja -> BEB12043<br>\n",
        "Vodka -> BEB34501<br>\n",
        "\n",
        "Guaraná -> BSA11104<br>\n",
        "Coca -> BSA54301<br>\n",
        "Sprite -> BSA34012<br>\n",
        "Água -> BSA09871<br>\n",
        "\n",
        "Repare que bebidas não alcóolicas começam com BSA e bebidas alcoolicas começam com BEB.\n",
        "\n",
        "Crie um programa que analise uma lista de produtos e envie instruções para a equipe de estoque dizendo quais produtos devem ser enviados para a área de bebidas alcóolicas."
      ]
    },
    {
      "cell_type": "code",
      "source": [],
      "metadata": {
        "id": "umlSszxS8q-C"
      },
      "execution_count": null,
      "outputs": []
    },
    {
      "cell_type": "code",
      "execution_count": 10,
      "metadata": {
        "id": "_DznvYSS5BBG",
        "outputId": "a00609ee-433b-456a-d93b-651694572485",
        "colab": {
          "base_uri": "https://localhost:8080/"
        }
      },
      "outputs": [
        {
          "output_type": "stream",
          "name": "stdout",
          "text": [
            "Enviar BEB46275 produto para o setor de bebidas alcóolicas \n",
            "Enviar BSA45510 produto para o setor de bebidas não alcóolicas \n",
            "Enviar BEB21365 produto para o setor de bebidas alcóolicas \n",
            "Enviar BEB31623 produto para o setor de bebidas alcóolicas \n",
            "Enviar BSA62419 produto para o setor de bebidas não alcóolicas \n",
            "Enviar BEB73344 produto para o setor de bebidas alcóolicas \n",
            "Enviar BEB80694 produto para o setor de bebidas alcóolicas \n",
            "Enviar BSA11769 produto para o setor de bebidas não alcóolicas \n",
            "Enviar BEB19495 produto para o setor de bebidas alcóolicas \n",
            "Enviar BSA33484 produto para o setor de bebidas não alcóolicas \n",
            "Enviar BEB97471 produto para o setor de bebidas alcóolicas \n",
            "Enviar BEB62362 produto para o setor de bebidas alcóolicas \n",
            "Enviar BEB85146 produto para o setor de bebidas alcóolicas \n",
            "Enviar BEB48898 produto para o setor de bebidas alcóolicas \n",
            "Enviar BEB79496 produto para o setor de bebidas alcóolicas \n",
            "Enviar BSA59251 produto para o setor de bebidas não alcóolicas \n",
            "Enviar BEB15385 produto para o setor de bebidas alcóolicas \n",
            "Enviar BEB24213 produto para o setor de bebidas alcóolicas \n",
            "Enviar BEB56262 produto para o setor de bebidas alcóolicas \n",
            "Enviar BSA96915 produto para o setor de bebidas não alcóolicas \n",
            "Enviar BEB75073 produto para o setor de bebidas alcóolicas \n"
          ]
        }
      ],
      "source": [
        "def eh_da_categoria(bebida,cod_categoria):\n",
        "  bebida = bebida.upper()\n",
        "  if cod_categoria in bebida:\n",
        "    return True\n",
        "  else:\n",
        "    return False  \n",
        "\n",
        "\n",
        "produtos = ['beb46275','TFA23962','TFA64715','TFA69555','TFA56743','BSA45510','TFA44968','CAR75448','CAR23596','CAR13490','BEB21365','BEB31623','BSA62419','BEB73344','TFA20079','BEB80694','BSA11769','BEB19495','TFA14792','TFA78043','BSA33484','BEB97471','BEB62362','TFA27311','TFA17715','BEB85146','BEB48898','BEB79496','CAR38417','TFA19947','TFA58799','CAR94811','BSA59251','BEB15385','BEB24213','BEB56262','BSA96915','CAR53454','BEB75073']\n",
        "\n",
        "#percorrer toda minha lista de produtos\n",
        "#para cada produto verificar se ele é bebida alcóolica\n",
        "#se for bebida alcóolica,exibir a mensagem enviar...\n",
        "\n",
        "for produto in produtos:\n",
        "  if eh_da_categoria(produto,\"BEB\"):\n",
        "    print(\"Enviar {} produto para o setor de bebidas alcóolicas \".format(produto.upper()))\n",
        "  elif eh_da_categoria(produto,'BSA'):\n",
        "    print(\"Enviar {} produto para o setor de bebidas não alcóolicas \".format(produto.upper()))\n"
      ]
    },
    {
      "cell_type": "code",
      "source": [
        "qtde_produtos = len(produtos)\n",
        "print(\"Quantidade total de produtos é:\",qtde_produtos,'texto1','texto2','texto3', sep = \"\\n\")"
      ],
      "metadata": {
        "id": "WrWB7IsZF5lk",
        "outputId": "27427648-d6fc-43e8-b9d5-cbeba1c56e98",
        "colab": {
          "base_uri": "https://localhost:8080/"
        }
      },
      "execution_count": 12,
      "outputs": [
        {
          "output_type": "stream",
          "name": "stdout",
          "text": [
            "Quantidade total de produtos é:\n",
            "39\n",
            "texto1\n",
            "texto2\n",
            "texto3\n"
          ]
        }
      ]
    }
  ],
  "metadata": {
    "kernelspec": {
      "display_name": "Python 3",
      "language": "python",
      "name": "python3"
    },
    "language_info": {
      "codemirror_mode": {
        "name": "ipython",
        "version": 3
      },
      "file_extension": ".py",
      "mimetype": "text/x-python",
      "name": "python",
      "nbconvert_exporter": "python",
      "pygments_lexer": "ipython3",
      "version": "3.8.3"
    },
    "colab": {
      "provenance": [],
      "include_colab_link": true
    }
  },
  "nbformat": 4,
  "nbformat_minor": 0
}