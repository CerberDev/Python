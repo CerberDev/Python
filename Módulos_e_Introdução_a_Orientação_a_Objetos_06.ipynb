{
  "cells": [
    {
      "cell_type": "markdown",
      "metadata": {
        "id": "view-in-github",
        "colab_type": "text"
      },
      "source": [
        "<a href=\"https://colab.research.google.com/github/CerberDev/Python/blob/main/M%C3%B3dulos_e_Introdu%C3%A7%C3%A3o_a_Orienta%C3%A7%C3%A3o_a_Objetos_06.ipynb\" target=\"_parent\"><img src=\"https://colab.research.google.com/assets/colab-badge.svg\" alt=\"Open In Colab\"/></a>"
      ]
    },
    {
      "cell_type": "markdown",
      "metadata": {
        "id": "V_n3SiOfnmDu"
      },
      "source": [
        "# Exibindo Gráficos no Python\n",
        "\n",
        "### Importância\n",
        "\n",
        "- Para exploração e visualização de dados, nada melhor do que usar gráficos para isso. Apesar do Python ser programação, gráficos facilitam d+ em qualquer projeto que trabalhe com dados.\n",
        "\n",
        "### Estrutura\n",
        "\n",
        "- Usaremos o módulo Matplotlib.pyplot, que é o módulo mais usado no Python. Existem outros, como o Seaborn e o Plotly, caso queira ver/usar"
      ]
    },
    {
      "cell_type": "code",
      "execution_count": 6,
      "metadata": {
        "id": "kTO_bEkYnmD0",
        "outputId": "f6c8135f-b2aa-4443-8adc-96e4b9568662",
        "colab": {
          "base_uri": "https://localhost:8080/",
          "height": 279
        }
      },
      "outputs": [
        {
          "output_type": "display_data",
          "data": {
            "text/plain": [
              "<Figure size 432x288 with 1 Axes>"
            ],
            "image/png": "[encoded data removed]"
          },
          "metadata": {
            "needs_background": "light"
          }
        }
      ],
      "source": [
        "vendas_meses = [1500, 1727, 1350, 999, 1050, 1027, 1022, 1500, 2000, 2362, 2100, 2762]\n",
        "meses = ['jan', 'fev', 'mar', 'abr', 'mai', 'jun', 'jul', 'ago', 'set', 'out', 'nov', 'dez']\n",
        "\n",
        "#plotar o gráfico da forma mais simples\n",
        "import matplotlib.pyplot as plt\n",
        "plt.plot(meses, vendas_meses)\n",
        "plt.ylabel('Vendas')\n",
        "plt.xlabel('Meses')\n",
        "plt.axis([0,12,0,max(vendas_meses) + 500])\n",
        "plt.show()"
      ]
    },
    {
      "cell_type": "markdown",
      "metadata": {
        "id": "fxFpgWdhnmD2"
      },
      "source": [
        "- Adicionar um Label no eixo X ou eixo Y"
      ]
    },
    {
      "cell_type": "markdown",
      "metadata": {
        "id": "Mc-f-v_fnmD3"
      },
      "source": [
        "- Mudar os nomes dos meses"
      ]
    },
    {
      "cell_type": "markdown",
      "metadata": {
        "id": "tB8PjEfynmD4"
      },
      "source": [
        "- Ajeitando o Eixo"
      ]
    }
  ],
  "metadata": {
    "kernelspec": {
      "display_name": "Python 3",
      "language": "python",
      "name": "python3"
    },
    "language_info": {
      "codemirror_mode": {
        "name": "ipython",
        "version": 3
      },
      "file_extension": ".py",
      "mimetype": "text/x-python",
      "name": "python",
      "nbconvert_exporter": "python",
      "pygments_lexer": "ipython3",
      "version": "3.8.3"
    },
    "colab": {
      "provenance": [],
      "include_colab_link": true
    }
  },
  "nbformat": 4,
  "nbformat_minor": 0
}