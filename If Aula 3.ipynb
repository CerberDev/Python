{
 "cells": [
  {
   "cell_type": "code",
   "execution_count": 15,
   "id": "6d99e3ff",
   "metadata": {},
   "outputs": [
    {
     "name": "stdout",
     "output_type": "stream",
     "text": [
      "funcionário 1 ganhou 100.0 de bônus\n",
      "Funcionário 2 gangou 0 de bônus\n",
      "Funcionário 3 ganhou 270.0 de bônus\n"
     ]
    }
   ],
   "source": [
    "vendas_funcionario1 = 1000\n",
    "vendas_funcionario2 = 770\n",
    "vendas_funcionario3 = 2700\n",
    "\n",
    "#inicio do código\n",
    "if vendas_funcionario1 >= 1000:\n",
    "    print(\"funcionário 1 ganhou {} de bônus\".format(vendas_funcionario1 * 0.1))\n",
    "\n",
    "    \n",
    "if vendas_funcionario2 >= 1000:\n",
    "    print(\"Funcionário 2 ganhou {} de bônus\".format(vendas_funcionario2 *0.1))\n",
    "else:\n",
    "    bonus = 0\n",
    "    print(\"Funcionário 2 gangou {} de bônus\".format(bonus))\n",
    "    \n",
    "if vendas_funcionario3 >= 1000:\n",
    "    print(\"Funcionário 3 ganhou {} de bônus\".format(vendas_funcionario3 *0.1))\n",
    "else:\n",
    "    bonus = 0\n",
    "    print(\"Funcionário 3 gangou {} de bônus\".format(bonus))\n"
   ]
  },
  {
   "cell_type": "code",
   "execution_count": 20,
   "id": "efa78ba4",
   "metadata": {},
   "outputs": [
    {
     "name": "stdout",
     "output_type": "stream",
     "text": [
      "O funcionário 1 ganhou 100.0 de bônus\n",
      "O funcionário 2 ganhou 0 de bônus\n",
      "O funcionário 3 ganhou 405.0 de bônus\n"
     ]
    }
   ],
   "source": [
    "\n",
    "\n",
    "if vendas_funcionario1 >= 1000:\n",
    "    if vendas_funcionario1 >= 2000:\n",
    "        bonus = 0.15 * vendas_funcionario1\n",
    "    else:\n",
    "        bonus = 0.1 * vendas_funcionario1\n",
    "else:\n",
    "    bonus =0\n",
    "print(\"O funcionário 1 ganhou {} de bônus\".format(bonus))\n",
    "\n",
    "#segunda maneira com if elif\n",
    "\n",
    "if vendas_funcionario2 >= 2000:\n",
    "    bonus = 0.15 * vendas_funcionario2\n",
    "elif vendas_funcionario2 >= 1000:\n",
    "    bonus = 0.1 * vendas_funcionario2\n",
    "else:\n",
    "    bonus = 0\n",
    "    print(\"O funcionário 2 ganhou {} de bônus\".format(bonus))\n",
    "\n",
    "\n",
    "\n",
    "\n",
    "######\n",
    "if vendas_funcionario3 >= 1000:\n",
    "    if vendas_funcionario3 >= 2000:\n",
    "        bonus = 0.15 * vendas_funcionario3\n",
    "    else:\n",
    "        bonus = 0.1 * vendas_funcionario3\n",
    "else:\n",
    "    bonus =0\n",
    "print(\"O funcionário 3 ganhou {} de bônus\".format(bonus))"
   ]
  }
 ],
 "metadata": {
  "kernelspec": {
   "display_name": "Python 3 (ipykernel)",
   "language": "python",
   "name": "python3"
  },
  "language_info": {
   "codemirror_mode": {
    "name": "ipython",
    "version": 3
   },
   "file_extension": ".py",
   "mimetype": "text/x-python",
   "name": "python",
   "nbconvert_exporter": "python",
   "pygments_lexer": "ipython3",
   "version": "3.9.12"
  }
 },
 "nbformat": 4,
 "nbformat_minor": 5
}
