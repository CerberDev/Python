{
  "cells": [
    {
      "cell_type": "markdown",
      "metadata": {
        "id": "view-in-github",
        "colab_type": "text"
      },
      "source": [
        "<a href=\"https://colab.research.google.com/github/CerberDev/Python/blob/main/List_Comprehensions_e_Functions_em_Iterables_02.ipynb\" target=\"_parent\"><img src=\"https://colab.research.google.com/assets/colab-badge.svg\" alt=\"Open In Colab\"/></a>"
      ]
    },
    {
      "cell_type": "markdown",
      "metadata": {
        "id": "_sc4sRVZH6t_"
      },
      "source": [
        "# Um exemplo prático de List Comprehension\n",
        "\n",
        "### O que faríamos se quisermos ordenar 2 listas \"relacionadas\""
      ]
    },
    {
      "cell_type": "code",
      "execution_count": 13,
      "metadata": {
        "colab": {
          "base_uri": "https://localhost:8080/"
        },
        "id": "08--oHRdH6uS",
        "outputId": "b0a50141-092f-44ae-8cb8-6a428912595c"
      },
      "outputs": [
        {
          "output_type": "stream",
          "name": "stdout",
          "text": [
            "['microondas', 'iphone', 'vinho', 'cafeiteira']\n"
          ]
        }
      ],
      "source": [
        "vendas_produtos = [1500, 150, 2100, 1950]\n",
        "produtos = ['vinho', 'cafeiteira', 'microondas', 'iphone']\n",
        "\n",
        "lista_aux = list(zip(vendas_produtos, produtos))\n",
        "lista_aux.sort(reverse = True)\n",
        "produtos = [produto for vendas, produto in lista_aux]\n",
        "print(produtos)"
      ]
    }
  ],
  "metadata": {
    "kernelspec": {
      "display_name": "Python 3",
      "language": "python",
      "name": "python3"
    },
    "language_info": {
      "codemirror_mode": {
        "name": "ipython",
        "version": 3
      },
      "file_extension": ".py",
      "mimetype": "text/x-python",
      "name": "python",
      "nbconvert_exporter": "python",
      "pygments_lexer": "ipython3",
      "version": "3.8.3"
    },
    "colab": {
      "provenance": [],
      "include_colab_link": true
    }
  },
  "nbformat": 4,
  "nbformat_minor": 0
}