{
  "cells": [
    {
      "cell_type": "markdown",
      "metadata": {
        "id": "view-in-github",
        "colab_type": "text"
      },
      "source": [
        "<a href=\"https://colab.research.google.com/github/CerberDev/Python/blob/main/List_Comprehensions_e_Functions_em_Iterables_07.ipynb\" target=\"_parent\"><img src=\"https://colab.research.google.com/assets/colab-badge.svg\" alt=\"Open In Colab\"/></a>"
      ]
    },
    {
      "cell_type": "markdown",
      "metadata": {
        "id": "4qDgfA_eDkb8"
      },
      "source": [
        "# sort (ou sorted) com function\n",
        "\n",
        "### Descrição:\n",
        "\n",
        "Até agora no programa, usamos várias vezes o .sort() para ordenar listas\n",
        "\n",
        "Mas o método sort tem um parâmetro que nunca usamos e que agora sabemos usar."
      ]
    },
    {
      "cell_type": "code",
      "execution_count": 1,
      "metadata": {
        "id": "4v7Rwwj4DkcE",
        "outputId": "6f0b6c44-5dac-45ec-ee27-93d95ded67a8",
        "colab": {
          "base_uri": "https://localhost:8080/"
        }
      },
      "outputs": [
        {
          "output_type": "stream",
          "name": "stdout",
          "text": [
            "['IPad', 'IPhone 11', 'IPhone x', 'airpods', 'apple tv', 'apple watch', 'mac', 'mac book']\n",
            "['IPad', 'IPhone 11', 'IPhone x', 'airpods', 'apple tv', 'apple watch', 'mac', 'mac book']\n"
          ]
        }
      ],
      "source": [
        "produtos = ['apple tv', 'mac', 'IPhone x', 'IPhone 11', 'IPad', 'apple watch', 'mac book', 'airpods']\n",
        "produtos.sort()\n",
        "print(produtos)\n",
        "lista_nova = sorted(produtos)#a diferença entre sort e sorted é lista.sort() Altera a lista original e lista_nova = sorted(produtos) é que precisa de uma variável nova para alteração dos valores\n",
        "print(produtos)"
      ]
    },
    {
      "cell_type": "markdown",
      "metadata": {
        "id": "q92JcpfGDkcG"
      },
      "source": [
        "- Como faríamos para ordenar corretamente?"
      ]
    },
    {
      "cell_type": "code",
      "execution_count": null,
      "metadata": {
        "id": "3iD2dUVLDkcH"
      },
      "outputs": [],
      "source": [
        "produtos.sort(key =str.casefold())#como é uma função de string é necessário colocar STR antes da função case fold\n",
        "print(produtos)"
      ]
    },
    {
      "cell_type": "markdown",
      "metadata": {
        "id": "MxZjrOXkDkcH"
      },
      "source": [
        "### Outro exemplo: como ordenar um dicionário de acordo com o valor"
      ]
    },
    {
      "cell_type": "code",
      "execution_count": 3,
      "metadata": {
        "id": "659LwFXfDkcI"
      },
      "outputs": [],
      "source": [
        "vendas_produtos = {'vinho': 100, 'cafeiteira': 150, 'microondas': 300, 'iphone': 5500}"
      ]
    },
    {
      "cell_type": "markdown",
      "metadata": {
        "id": "G2amgJmADkcJ"
      },
      "source": [
        "- Queremos listar da maior quantidade de vendas para a menor, para enviar como report para o diretor, por exemplo"
      ]
    },
    {
      "cell_type": "code",
      "execution_count": 11,
      "metadata": {
        "id": "vVBya0LlDkcK",
        "outputId": "38a0ff13-95e5-4a23-83b6-db99286f2621",
        "colab": {
          "base_uri": "https://localhost:8080/"
        }
      },
      "outputs": [
        {
          "output_type": "stream",
          "name": "stdout",
          "text": [
            "{'vinho': 100, 'cafeiteira': 150, 'microondas': 300, 'iphone': 5500}\n"
          ]
        }
      ],
      "source": [
        "def segundo_item(tupla):\n",
        "  return tupla[1]\n",
        "lista_vendas = list(vendas_produtos.items())\n",
        "lista_vendas.sort(key = segundo_item)#tupla com indice 1 é porque tem o indice zer e o indice 1 na lista,se deixasse sem ira fazer o método no primeiro item da lista e não é o que queremos\n",
        "print(dict(lista_vendas)) #O Dict é para transformar em um dicionario novamente"
      ]
    }
  ],
  "metadata": {
    "kernelspec": {
      "display_name": "Python 3",
      "language": "python",
      "name": "python3"
    },
    "language_info": {
      "codemirror_mode": {
        "name": "ipython",
        "version": 3
      },
      "file_extension": ".py",
      "mimetype": "text/x-python",
      "name": "python",
      "nbconvert_exporter": "python",
      "pygments_lexer": "ipython3",
      "version": "3.8.3"
    },
    "colab": {
      "provenance": [],
      "include_colab_link": true
    }
  },
  "nbformat": 4,
  "nbformat_minor": 0
}