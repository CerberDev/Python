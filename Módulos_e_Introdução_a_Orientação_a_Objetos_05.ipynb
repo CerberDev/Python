{
  "cells": [
    {
      "cell_type": "markdown",
      "metadata": {
        "id": "view-in-github",
        "colab_type": "text"
      },
      "source": [
        "<a href=\"https://colab.research.google.com/github/CerberDev/Python/blob/main/M%C3%B3dulos_e_Introdu%C3%A7%C3%A3o_a_Orienta%C3%A7%C3%A3o_a_Objetos_05.ipynb\" target=\"_parent\"><img src=\"https://colab.research.google.com/assets/colab-badge.svg\" alt=\"Open In Colab\"/></a>"
      ]
    },
    {
      "cell_type": "markdown",
      "metadata": {
        "id": "ZmdWNPlqb__q"
      },
      "source": [
        "# Usando módulos para ajudar a resolver desafios\n",
        "\n",
        "### Objetivo\n",
        "\n",
        "- Muitas vezes algum módulo vai ajudar a gente a resolver um desafio que talvez até conseguíssemos resolver de outra forma.\n",
        "\n",
        "### Exemplo\n",
        "\n",
        "- Digamos que você está analisando todas as vendas dos produtos de tecnologia de um e-commerce e quer saber quais foram os 5 produtos que mais venderam (e suas respectivas quantidades de vendas) - ou seja, queremos descobrir um top 3 produtos de forma simples"
      ]
    },
    {
      "cell_type": "code",
      "execution_count": 6,
      "metadata": {
        "id": "I24eHB2_b__2",
        "outputId": "c2a2338a-2a2c-4fcb-8c72-ac8627c1a8e1",
        "colab": {
          "base_uri": "https://localhost:8080/"
        }
      },
      "outputs": [
        {
          "output_type": "stream",
          "name": "stdout",
          "text": [
            "[('notebook dell', 17000), ('iphone', 15000), ('ps5', 14300)]\n"
          ]
        }
      ],
      "source": [
        "from collections import Counter\n",
        "vendas_tecnologia = {'notebook asus': 2450, 'iphone': 15000, 'samsung galaxy': 12000, 'tv samsung': 10000, 'ps5': 14300, 'tablet': 1720, 'notebook dell': 17000, 'ipad': 1000, 'tv philco': 2500, 'notebook hp': 1000}\n",
        "\n",
        "aux = Counter(vendas_tecnologia)\n",
        "\n",
        "\n",
        "print(aux.most_common(3))"
      ]
    }
  ],
  "metadata": {
    "kernelspec": {
      "display_name": "Python 3",
      "language": "python",
      "name": "python3"
    },
    "language_info": {
      "codemirror_mode": {
        "name": "ipython",
        "version": 3
      },
      "file_extension": ".py",
      "mimetype": "text/x-python",
      "name": "python",
      "nbconvert_exporter": "python",
      "pygments_lexer": "ipython3",
      "version": "3.8.3"
    },
    "colab": {
      "provenance": [],
      "include_colab_link": true
    }
  },
  "nbformat": 4,
  "nbformat_minor": 0
}