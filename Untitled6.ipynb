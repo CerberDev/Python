{
 "cells": [
  {
   "cell_type": "code",
   "execution_count": 11,
   "id": "4d1e5739",
   "metadata": {},
   "outputs": [],
   "source": [
    "faturamento = 2000\n",
    "custo =500\n",
    "lucro = faturamento - custo\n",
    "nome = (\"Alê\")"
   ]
  },
  {
   "cell_type": "code",
   "execution_count": 3,
   "id": "83e50cdd",
   "metadata": {},
   "outputs": [
    {
     "name": "stdout",
     "output_type": "stream",
     "text": [
      "O Faturamento foi de 2000 O custo foi de 500 o Lucro Foi de 1500\n"
     ]
    }
   ],
   "source": [
    "print (\"O Faturamento foi de \"+ str(faturamento) + \" O custo foi de \"+ str(custo) + \" o Lucro Foi de \"+ str(lucro) )"
   ]
  },
  {
   "cell_type": "code",
   "execution_count": 6,
   "id": "07c0e035",
   "metadata": {},
   "outputs": [
    {
     "name": "stdout",
     "output_type": "stream",
     "text": [
      "O Faturamento foi de 2000 o custo foi de 500 o lucro foi de 1500 Lembrando O faturamento foi de 2000\n"
     ]
    }
   ],
   "source": [
    "print(\"O Faturamento foi de {0} o custo foi de {1} o lucro foi de {2} Lembrando O faturamento foi de {0}\".format(faturamento,custo,lucro))"
   ]
  },
  {
   "cell_type": "code",
   "execution_count": 13,
   "id": "c50853ec",
   "metadata": {},
   "outputs": [
    {
     "name": "stdout",
     "output_type": "stream",
     "text": [
      "O faturamento foi de 2000 o lucro foi de 1500 o custo foi de 500 e o  Alê vai receber o valor do lucro\n"
     ]
    }
   ],
   "source": [
    "print(\"O faturamento foi de %d o lucro foi de %d o custo foi de %d e o  %s vai receber o valor do lucro\" %(faturamento,lucro,custo,nome))#%s é para texto e %d para números"
   ]
  },
  {
   "cell_type": "code",
   "execution_count": 15,
   "id": "3240ae59",
   "metadata": {},
   "outputs": [
    {
     "name": "stdout",
     "output_type": "stream",
     "text": [
      "True\n",
      "False\n"
     ]
    }
   ],
   "source": [
    "print(\"@\" in \"lira@gmail.com\")\n",
    "print(\"@\" in \"lira.gmail.com\")"
   ]
  },
  {
   "cell_type": "code",
   "execution_count": null,
   "id": "54e27103",
   "metadata": {},
   "outputs": [],
   "source": []
  }
 ],
 "metadata": {
  "kernelspec": {
   "display_name": "Python 3 (ipykernel)",
   "language": "python",
   "name": "python3"
  },
  "language_info": {
   "codemirror_mode": {
    "name": "ipython",
    "version": 3
   },
   "file_extension": ".py",
   "mimetype": "text/x-python",
   "name": "python",
   "nbconvert_exporter": "python",
   "pygments_lexer": "ipython3",
   "version": "3.9.12"
  }
 },
 "nbformat": 4,
 "nbformat_minor": 5
}
