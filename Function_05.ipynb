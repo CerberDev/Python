{
  "cells": [
    {
      "cell_type": "markdown",
      "metadata": {
        "id": "view-in-github",
        "colab_type": "text"
      },
      "source": [
        "<a href=\"https://colab.research.google.com/github/CerberDev/Python/blob/main/Function_05.ipynb\" target=\"_parent\"><img src=\"https://colab.research.google.com/assets/colab-badge.svg\" alt=\"Open In Colab\"/></a>"
      ]
    },
    {
      "cell_type": "markdown",
      "metadata": {
        "id": "pr2TPIBsOWEe"
      },
      "source": [
        "# Exemplos de parâmetros\n",
        "\n",
        "\n",
        "- upper() -> não tem parâmetros \n",
        "- sort() -> apenas parâmetros keyword\n",
        "- extend(lista) -> 1 parâmetro obrigatório\n",
        "- nossa função eh_da_categoria(bebida, cod_categoria) -> 2 parâmetros de posição obrigatórios\n"
      ]
    },
    {
      "cell_type": "code",
      "execution_count": null,
      "metadata": {
        "id": "W9hto7AQOWEp"
      },
      "outputs": [],
      "source": [
        "def eh_da_categoria(bebida, cod_categoria):\n",
        "    bebida = bebida.upper()\n",
        "    if cod_categoria in bebida:\n",
        "        return True\n",
        "    else:\n",
        "        return False"
      ]
    },
    {
      "cell_type": "code",
      "execution_count": 3,
      "metadata": {
        "id": "grD13ydpOWEu",
        "outputId": "cbd37f72-9777-4e5b-877b-67cf7a8ab41a",
        "colab": {
          "base_uri": "https://localhost:8080/"
        }
      },
      "outputs": [
        {
          "output_type": "stream",
          "name": "stdout",
          "text": [
            "BEB12304\n",
            "[1555, 789, 500, 300, 240, 200, 100, 90, 60, 55, 50, 10]\n"
          ]
        }
      ],
      "source": [
        "#texto para upper\n",
        "cod_produto = 'beb12304'\n",
        "print(cod_produto.upper())\n",
        "# lista para sort e extend\n",
        "vendas_ano = [100, 200, 50, 90, 240, 300, 55, 10, 789, 60]\n",
        "vendas_novdez = [500, 1555]\n",
        "\n",
        "vendas_ano.extend(vendas_novdez)\n",
        "\n",
        "vendas_ano.sort(reverse = True)\n",
        "print(vendas_ano)\n",
        "\n",
        "if eh_da_categoria()"
      ]
    }
  ],
  "metadata": {
    "kernelspec": {
      "display_name": "Python 3",
      "language": "python",
      "name": "python3"
    },
    "language_info": {
      "codemirror_mode": {
        "name": "ipython",
        "version": 3
      },
      "file_extension": ".py",
      "mimetype": "text/x-python",
      "name": "python",
      "nbconvert_exporter": "python",
      "pygments_lexer": "ipython3",
      "version": "3.8.3"
    },
    "colab": {
      "provenance": [],
      "include_colab_link": true
    }
  },
  "nbformat": 4,
  "nbformat_minor": 0
}