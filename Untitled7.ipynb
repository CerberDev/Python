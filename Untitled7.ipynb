{
 "cells": [
  {
   "cell_type": "code",
   "execution_count": 14,
   "id": "dbf5a387",
   "metadata": {},
   "outputs": [
    {
     "name": "stdout",
     "output_type": "stream",
     "text": [
      "['apple tv', 'mac', 'iphone x', 'ipad', 'mac watch', 'mac book', 'airpods', 'iphone 11']\n",
      "['apple tv', 'mac', 'ipad', 'mac watch', 'mac book', 'airpods']\n",
      "iphone x\n"
     ]
    }
   ],
   "source": [
    "produtos = ['apple tv','mac','iphone x','ipad','mac watch','mac book','airpods']\n",
    "produtos.append('iphone 11')\n",
    "print(produtos)\n",
    "\n",
    "produtos.remove('iphone 11')\n",
    "\n",
    "item_removido = produtos.pop(2)\n",
    "print(produtos)\n",
    "print(item_removido)"
   ]
  }
 ],
 "metadata": {
  "kernelspec": {
   "display_name": "Python 3 (ipykernel)",
   "language": "python",
   "name": "python3"
  },
  "language_info": {
   "codemirror_mode": {
    "name": "ipython",
    "version": 3
   },
   "file_extension": ".py",
   "mimetype": "text/x-python",
   "name": "python",
   "nbconvert_exporter": "python",
   "pygments_lexer": "ipython3",
   "version": "3.9.12"
  }
 },
 "nbformat": 4,
 "nbformat_minor": 5
}
