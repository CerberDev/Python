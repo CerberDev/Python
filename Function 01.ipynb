{
 "cells": [
  {
   "cell_type": "markdown",
   "metadata": {},
   "source": [
    "# Function Python\n",
    "\n",
    "### O que é?\n",
    "\n",
    "As functions são blocos de código que servem 1 único propósito, fazem uma ação específica.\n",
    "\n",
    "### Estrutura Básica"
   ]
  },
  {
   "cell_type": "raw",
   "metadata": {},
   "source": [
    "def nome_funcao():\n",
    "    faça alguma coisa\n",
    "    faça outra coisa\n",
    "    return valor_final"
   ]
  },
  {
   "cell_type": "markdown",
   "metadata": {},
   "source": [
    "- Exemplo: vamos criar uma função de cadastro de um Produto. Essa função deve garantir que o produto cadastrado está em letra minúscula."
   ]
  },
  {
   "cell_type": "code",
   "execution_count": 9,
   "metadata": {},
   "outputs": [],
   "source": [
    "#def é definir função def mais a \"variável\" ()e :\n",
    "#ponto strip .strip() remove o espaço no início e no final da palavra\n",
    "#return é para pegar a variável que foi criada dentro da function, se eu não por da erro por não existir#\n",
    "\n",
    "def cadastrar_produto():\n",
    "    produto = input(\"Digite o nome do produto que deseja cadastrar\")\n",
    "    #casefold ou lower é função para deixar tudo em letras minúsculas\n",
    "    produto = produto.casefold()\n",
    "    produto = produto.strip()\n",
    "    #print(\"produto {} cadastrado com sucesso\".format(produto))\n",
    "    return produto\n",
    "    "
   ]
  },
  {
   "cell_type": "code",
   "execution_count": 10,
   "metadata": {},
   "outputs": [
    {
     "name": "stdout",
     "output_type": "stream",
     "text": [
      "Digite o nome do produto que deseja cadastrar BoLO\n",
      "bolo\n"
     ]
    }
   ],
   "source": [
    "variavel_produto = cadastrar_produto()\n",
    "print(variavel_produto)"
   ]
  },
  {
   "cell_type": "code",
   "execution_count": 8,
   "metadata": {},
   "outputs": [
    {
     "name": "stdout",
     "output_type": "stream",
     "text": [
      "Digite o nome do produto que deseja cadastrar   LeiTE\n",
      "produto leite cadastrado com sucesso\n",
      "Digite o nome do produto que deseja cadastrarFígadO \n",
      "produto fígado cadastrado com sucesso\n",
      "Digite o nome do produto que deseja cadastrar PasTEL \n",
      "produto pastel cadastrado com sucesso\n"
     ]
    }
   ],
   "source": [
    "\n",
    "#Chamando a função variável mais ()vazios#\n",
    "for i in range(3):\n",
    "    cadastrar_produto()"
   ]
  },
  {
   "cell_type": "code",
   "execution_count": 1,
   "metadata": {},
   "outputs": [
    {
     "name": "stdout",
     "output_type": "stream",
     "text": [
      "[10, 30, 90, 150, 2000]\n"
     ]
    }
   ],
   "source": [
    "lista = [150,10,30,2000,90]\n",
    "#sort é função para deixar em ordem crescente.\n",
    "lista.sort()\n",
    "print(lista) "
   ]
  }
 ],
 "metadata": {
  "kernelspec": {
   "display_name": "Python 3 (ipykernel)",
   "language": "python",
   "name": "python3"
  },
  "language_info": {
   "codemirror_mode": {
    "name": "ipython",
    "version": 3
   },
   "file_extension": ".py",
   "mimetype": "text/x-python",
   "name": "python",
   "nbconvert_exporter": "python",
   "pygments_lexer": "ipython3",
   "version": "3.9.12"
  }
 },
 "nbformat": 4,
 "nbformat_minor": 4
}
