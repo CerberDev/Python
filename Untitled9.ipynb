{
 "cells": [
  {
   "cell_type": "code",
   "execution_count": 4,
   "id": "e81eb7ce",
   "metadata": {},
   "outputs": [
    {
     "name": "stdout",
     "output_type": "stream",
     "text": [
      "['ipad', 'iphone', 'imac']\n",
      "['ipad', 'iphone', 'imac']\n"
     ]
    }
   ],
   "source": [
    "lista = ['ipad','iphone','imac'] \n",
    "lista2 = lista.copy()\n",
    "\n",
    "print(lista)\n",
    "print(lista2)"
   ]
  },
  {
   "cell_type": "code",
   "execution_count": 7,
   "id": "4b5f706c",
   "metadata": {},
   "outputs": [
    {
     "name": "stdout",
     "output_type": "stream",
     "text": [
      "['ipad', 'iphonex', 'imac']\n",
      "['ipad', 'iphone', 'imac']\n"
     ]
    }
   ],
   "source": [
    "lista = ['ipad','iphone','imac'] \n",
    "lista2 = lista[:]\n",
    "\n",
    "lista [1] = 'iphonex'\n",
    "print(lista)\n",
    "print(lista2)"
   ]
  }
 ],
 "metadata": {
  "kernelspec": {
   "display_name": "Python 3 (ipykernel)",
   "language": "python",
   "name": "python3"
  },
  "language_info": {
   "codemirror_mode": {
    "name": "ipython",
    "version": 3
   },
   "file_extension": ".py",
   "mimetype": "text/x-python",
   "name": "python",
   "nbconvert_exporter": "python",
   "pygments_lexer": "ipython3",
   "version": "3.9.12"
  }
 },
 "nbformat": 4,
 "nbformat_minor": 5
}
