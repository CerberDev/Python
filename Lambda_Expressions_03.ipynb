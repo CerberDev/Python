{
  "cells": [
    {
      "cell_type": "markdown",
      "metadata": {
        "id": "view-in-github",
        "colab_type": "text"
      },
      "source": [
        "<a href=\"https://colab.research.google.com/github/CerberDev/Python/blob/main/Lambda_Expressions_03.ipynb\" target=\"_parent\"><img src=\"https://colab.research.google.com/assets/colab-badge.svg\" alt=\"Open In Colab\"/></a>"
      ]
    },
    {
      "cell_type": "markdown",
      "metadata": {
        "id": "bEEr4RC2mLQC"
      },
      "source": [
        "# Lambda Expressions para gerar funções\n",
        "\n",
        "### Descrição\n",
        "\n",
        "- Uma das aplicações de lambda expressions, além da vista na aula passada, é criar um \"gerador de funções\". Nesse caso, usaremos a lambda expressions dentro da definição de uma outra função\n",
        "\n",
        "### Exemplo:\n",
        "\n",
        "1. Vamos criar uma função que me permita calcular o valor acrescido do imposto de diferentes categorias (produto, serviço, royalties, etc.)"
      ]
    },
    {
      "cell_type": "code",
      "execution_count": 10,
      "metadata": {
        "id": "dlTO9PBzmLQL"
      },
      "outputs": [],
      "source": [
        "# produto 0.1\n",
        "#serviço 0.15\n",
        "#royalties 0.25\n",
        "\n",
        "def calcular_preco_produto(preco):\n",
        "  return preco * 0.1\n",
        "\n",
        "def calcular_preco_servico(preco):\n",
        "  return preco * 0.15\n",
        "\n",
        "def calcular_imposto(imposto):\n",
        "  return lambda  preco: preco * (1 + imposto) "
      ]
    },
    {
      "cell_type": "markdown",
      "metadata": {
        "id": "h_ZH55h9mLQQ"
      },
      "source": [
        "- Agora vamos definir as funções que calculam o imposto das 3 categorias (produto, serviço, royalties)"
      ]
    },
    {
      "cell_type": "code",
      "execution_count": 11,
      "metadata": {
        "id": "i0nmRYx2mLQR"
      },
      "outputs": [],
      "source": [
        "calcular_imposto_produto = calcular_imposto(0.1)\n",
        "calcular_preco_servico = calcular_imposto(0.15)\n",
        "calcular_preco_royalties = calcular_imposto(0.25)"
      ]
    },
    {
      "cell_type": "markdown",
      "metadata": {
        "id": "2AYfwuzMmLQR"
      },
      "source": [
        "- Agora vamos aplicar com um valor de nota fiscal de 100 para ver o resultado"
      ]
    },
    {
      "cell_type": "code",
      "execution_count": 14,
      "metadata": {
        "id": "VGYO7fwImLQS",
        "outputId": "bc0bca6e-0666-465e-88f4-e0b3320bb270",
        "colab": {
          "base_uri": "https://localhost:8080/"
        }
      },
      "outputs": [
        {
          "output_type": "stream",
          "name": "stdout",
          "text": [
            "10.0\n",
            "114.99999999999999\n",
            "125.0\n"
          ]
        }
      ],
      "source": [
        "print(calcular_preco_produto(100))\n",
        "print(calcular_preco_servico(100))\n",
        "print(calcular_preco_royalties(100))"
      ]
    },
    {
      "cell_type": "markdown",
      "metadata": {
        "id": "zIMDTiyOmLQS"
      },
      "source": [
        "### É menos usado do que a forma anterior que vimos, mas pode ser útil caso queira criar funções que possam ser adaptadas como vimos aqui"
      ]
    }
  ],
  "metadata": {
    "kernelspec": {
      "display_name": "Python 3",
      "language": "python",
      "name": "python3"
    },
    "language_info": {
      "codemirror_mode": {
        "name": "ipython",
        "version": 3
      },
      "file_extension": ".py",
      "mimetype": "text/x-python",
      "name": "python",
      "nbconvert_exporter": "python",
      "pygments_lexer": "ipython3",
      "version": "3.8.3"
    },
    "colab": {
      "provenance": [],
      "include_colab_link": true
    }
  },
  "nbformat": 4,
  "nbformat_minor": 0
}